{
 "cells": [
  {
   "cell_type": "code",
   "execution_count": 2,
   "metadata": {},
   "outputs": [],
   "source": [
    "import pandas as pd\n",
    "import numpy as np\n",
    "import matplotlib.pyplot as plt\n",
    "import re"
   ]
  },
  {
   "attachments": {},
   "cell_type": "markdown",
   "metadata": {},
   "source": [
    "# Data Cleaning"
   ]
  },
  {
   "attachments": {},
   "cell_type": "markdown",
   "metadata": {},
   "source": [
    "### Formatting and Joining Dates"
   ]
  },
  {
   "cell_type": "code",
   "execution_count": 3,
   "metadata": {},
   "outputs": [],
   "source": [
    "# Importing users datasets\n",
    "cikmUsers1 = pd.read_csv('../data/test_set_users.txt', sep='\\t', on_bad_lines='skip', names=['user_id', 'coordinates'], encoding='latin1')\n",
    "cikmUsers2 = pd.read_csv('../data/training_set_users.txt', sep='\\t', on_bad_lines='skip', names=['user_id', 'location'], encoding='latin1')"
   ]
  },
  {
   "cell_type": "code",
   "execution_count": 4,
   "metadata": {},
   "outputs": [],
   "source": [
    "# Function to get coordinates\n",
    "def getCoordinate(s:str, long:bool):\n",
    "    if type(s) != str:\n",
    "        return np.nan\n",
    "    s = s.replace('UT:', '')\n",
    "    return s.split(',')[long]\n",
    "\n",
    "# Formatting coordinates column into long and lat\n",
    "cikmUsers1['latitude'] = cikmUsers1['coordinates'].map(lambda x: getCoordinate(x, False))\n",
    "cikmUsers1['longitude'] = cikmUsers1['coordinates'].map(lambda x: getCoordinate(x, True))\n",
    "\n",
    "# Dropping coordinates column\n",
    "cikmUsers1 = cikmUsers1.drop(['coordinates'], axis=1)"
   ]
  },
  {
   "cell_type": "code",
   "execution_count": 5,
   "metadata": {},
   "outputs": [
    {
     "ename": "KeyboardInterrupt",
     "evalue": "",
     "output_type": "error",
     "traceback": [
      "\u001b[0;31m---------------------------------------------------------------------------\u001b[0m",
      "\u001b[0;31mKeyboardInterrupt\u001b[0m                         Traceback (most recent call last)",
      "Cell \u001b[0;32mIn[5], line 34\u001b[0m\n\u001b[1;32m     31\u001b[0m \u001b[39m# Getting long and lat for each observation\u001b[39;00m\n\u001b[1;32m     32\u001b[0m citiesDF \u001b[39m=\u001b[39m pd\u001b[39m.\u001b[39mread_csv(\u001b[39m'\u001b[39m\u001b[39m../data/uscities.csv\u001b[39m\u001b[39m'\u001b[39m)\n\u001b[0;32m---> 34\u001b[0m cikmUsers2[\u001b[39m'\u001b[39m\u001b[39mlatitude\u001b[39m\u001b[39m'\u001b[39m] \u001b[39m=\u001b[39m cikmUsers2[\u001b[39m'\u001b[39;49m\u001b[39mlocation\u001b[39;49m\u001b[39m'\u001b[39;49m]\u001b[39m.\u001b[39;49mmap(\u001b[39mlambda\u001b[39;49;00m x: getCityCoordinates(x, \u001b[39mFalse\u001b[39;49;00m, citiesDF))\n\u001b[1;32m     35\u001b[0m cikmUsers2[\u001b[39m'\u001b[39m\u001b[39mlongitude\u001b[39m\u001b[39m'\u001b[39m] \u001b[39m=\u001b[39m cikmUsers2[\u001b[39m'\u001b[39m\u001b[39mlocation\u001b[39m\u001b[39m'\u001b[39m]\u001b[39m.\u001b[39mmap(\u001b[39mlambda\u001b[39;00m x: getCityCoordinates(x, \u001b[39mTrue\u001b[39;00m, citiesDF))\n\u001b[1;32m     37\u001b[0m \u001b[39m# This cell takes like 7 min\u001b[39;00m\n",
      "File \u001b[0;32m/Library/Frameworks/Python.framework/Versions/3.11/lib/python3.11/site-packages/pandas/core/series.py:4539\u001b[0m, in \u001b[0;36mSeries.map\u001b[0;34m(self, arg, na_action)\u001b[0m\n\u001b[1;32m   4460\u001b[0m \u001b[39mdef\u001b[39;00m \u001b[39mmap\u001b[39m(\n\u001b[1;32m   4461\u001b[0m     \u001b[39mself\u001b[39m,\n\u001b[1;32m   4462\u001b[0m     arg: Callable \u001b[39m|\u001b[39m Mapping \u001b[39m|\u001b[39m Series,\n\u001b[1;32m   4463\u001b[0m     na_action: Literal[\u001b[39m\"\u001b[39m\u001b[39mignore\u001b[39m\u001b[39m\"\u001b[39m] \u001b[39m|\u001b[39m \u001b[39mNone\u001b[39;00m \u001b[39m=\u001b[39m \u001b[39mNone\u001b[39;00m,\n\u001b[1;32m   4464\u001b[0m ) \u001b[39m-\u001b[39m\u001b[39m>\u001b[39m Series:\n\u001b[1;32m   4465\u001b[0m \u001b[39m    \u001b[39m\u001b[39m\"\"\"\u001b[39;00m\n\u001b[1;32m   4466\u001b[0m \u001b[39m    Map values of Series according to an input mapping or function.\u001b[39;00m\n\u001b[1;32m   4467\u001b[0m \n\u001b[0;32m   (...)\u001b[0m\n\u001b[1;32m   4537\u001b[0m \u001b[39m    dtype: object\u001b[39;00m\n\u001b[1;32m   4538\u001b[0m \u001b[39m    \"\"\"\u001b[39;00m\n\u001b[0;32m-> 4539\u001b[0m     new_values \u001b[39m=\u001b[39m \u001b[39mself\u001b[39;49m\u001b[39m.\u001b[39;49m_map_values(arg, na_action\u001b[39m=\u001b[39;49mna_action)\n\u001b[1;32m   4540\u001b[0m     \u001b[39mreturn\u001b[39;00m \u001b[39mself\u001b[39m\u001b[39m.\u001b[39m_constructor(new_values, index\u001b[39m=\u001b[39m\u001b[39mself\u001b[39m\u001b[39m.\u001b[39mindex)\u001b[39m.\u001b[39m__finalize__(\n\u001b[1;32m   4541\u001b[0m         \u001b[39mself\u001b[39m, method\u001b[39m=\u001b[39m\u001b[39m\"\u001b[39m\u001b[39mmap\u001b[39m\u001b[39m\"\u001b[39m\n\u001b[1;32m   4542\u001b[0m     )\n",
      "File \u001b[0;32m/Library/Frameworks/Python.framework/Versions/3.11/lib/python3.11/site-packages/pandas/core/base.py:890\u001b[0m, in \u001b[0;36mIndexOpsMixin._map_values\u001b[0;34m(self, mapper, na_action)\u001b[0m\n\u001b[1;32m    887\u001b[0m         \u001b[39mraise\u001b[39;00m \u001b[39mValueError\u001b[39;00m(msg)\n\u001b[1;32m    889\u001b[0m \u001b[39m# mapper is a function\u001b[39;00m\n\u001b[0;32m--> 890\u001b[0m new_values \u001b[39m=\u001b[39m map_f(values, mapper)\n\u001b[1;32m    892\u001b[0m \u001b[39mreturn\u001b[39;00m new_values\n",
      "File \u001b[0;32m/Library/Frameworks/Python.framework/Versions/3.11/lib/python3.11/site-packages/pandas/_libs/lib.pyx:2924\u001b[0m, in \u001b[0;36mpandas._libs.lib.map_infer\u001b[0;34m()\u001b[0m\n",
      "Cell \u001b[0;32mIn[5], line 34\u001b[0m, in \u001b[0;36m<lambda>\u001b[0;34m(x)\u001b[0m\n\u001b[1;32m     31\u001b[0m \u001b[39m# Getting long and lat for each observation\u001b[39;00m\n\u001b[1;32m     32\u001b[0m citiesDF \u001b[39m=\u001b[39m pd\u001b[39m.\u001b[39mread_csv(\u001b[39m'\u001b[39m\u001b[39m../data/uscities.csv\u001b[39m\u001b[39m'\u001b[39m)\n\u001b[0;32m---> 34\u001b[0m cikmUsers2[\u001b[39m'\u001b[39m\u001b[39mlatitude\u001b[39m\u001b[39m'\u001b[39m] \u001b[39m=\u001b[39m cikmUsers2[\u001b[39m'\u001b[39m\u001b[39mlocation\u001b[39m\u001b[39m'\u001b[39m]\u001b[39m.\u001b[39mmap(\u001b[39mlambda\u001b[39;00m x: getCityCoordinates(x, \u001b[39mFalse\u001b[39;49;00m, citiesDF))\n\u001b[1;32m     35\u001b[0m cikmUsers2[\u001b[39m'\u001b[39m\u001b[39mlongitude\u001b[39m\u001b[39m'\u001b[39m] \u001b[39m=\u001b[39m cikmUsers2[\u001b[39m'\u001b[39m\u001b[39mlocation\u001b[39m\u001b[39m'\u001b[39m]\u001b[39m.\u001b[39mmap(\u001b[39mlambda\u001b[39;00m x: getCityCoordinates(x, \u001b[39mTrue\u001b[39;00m, citiesDF))\n\u001b[1;32m     37\u001b[0m \u001b[39m# This cell takes like 7 min\u001b[39;00m\n",
      "Cell \u001b[0;32mIn[5], line 19\u001b[0m, in \u001b[0;36mgetCityCoordinates\u001b[0;34m(s, long, citiesDF)\u001b[0m\n\u001b[1;32m     17\u001b[0m \u001b[39melse\u001b[39;00m:\n\u001b[1;32m     18\u001b[0m     state \u001b[39m=\u001b[39m location[\u001b[39m1\u001b[39m]\n\u001b[0;32m---> 19\u001b[0m     cities \u001b[39m=\u001b[39m citiesDF\u001b[39m.\u001b[39mloc[(citiesDF[\u001b[39m'\u001b[39m\u001b[39mcity\u001b[39m\u001b[39m'\u001b[39m] \u001b[39m==\u001b[39m city\u001b[39m.\u001b[39mstrip()) \u001b[39m&\u001b[39m (citiesDF[\u001b[39m'\u001b[39;49m\u001b[39mstate_id\u001b[39;49m\u001b[39m'\u001b[39;49m] \u001b[39m==\u001b[39;49m state\u001b[39m.\u001b[39;49mstrip())]\n\u001b[1;32m     20\u001b[0m     \u001b[39mif\u001b[39;00m \u001b[39mlen\u001b[39m(cities) \u001b[39m==\u001b[39m \u001b[39m0\u001b[39m:\n\u001b[1;32m     21\u001b[0m         \u001b[39mreturn\u001b[39;00m np\u001b[39m.\u001b[39mnan\n",
      "File \u001b[0;32m/Library/Frameworks/Python.framework/Versions/3.11/lib/python3.11/site-packages/pandas/core/ops/common.py:72\u001b[0m, in \u001b[0;36m_unpack_zerodim_and_defer.<locals>.new_method\u001b[0;34m(self, other)\u001b[0m\n\u001b[1;32m     68\u001b[0m             \u001b[39mreturn\u001b[39;00m \u001b[39mNotImplemented\u001b[39m\n\u001b[1;32m     70\u001b[0m other \u001b[39m=\u001b[39m item_from_zerodim(other)\n\u001b[0;32m---> 72\u001b[0m \u001b[39mreturn\u001b[39;00m method(\u001b[39mself\u001b[39;49m, other)\n",
      "File \u001b[0;32m/Library/Frameworks/Python.framework/Versions/3.11/lib/python3.11/site-packages/pandas/core/arraylike.py:42\u001b[0m, in \u001b[0;36mOpsMixin.__eq__\u001b[0;34m(self, other)\u001b[0m\n\u001b[1;32m     40\u001b[0m \u001b[39m@unpack_zerodim_and_defer\u001b[39m(\u001b[39m\"\u001b[39m\u001b[39m__eq__\u001b[39m\u001b[39m\"\u001b[39m)\n\u001b[1;32m     41\u001b[0m \u001b[39mdef\u001b[39;00m \u001b[39m__eq__\u001b[39m(\u001b[39mself\u001b[39m, other):\n\u001b[0;32m---> 42\u001b[0m     \u001b[39mreturn\u001b[39;00m \u001b[39mself\u001b[39;49m\u001b[39m.\u001b[39;49m_cmp_method(other, operator\u001b[39m.\u001b[39;49meq)\n",
      "File \u001b[0;32m/Library/Frameworks/Python.framework/Versions/3.11/lib/python3.11/site-packages/pandas/core/series.py:6243\u001b[0m, in \u001b[0;36mSeries._cmp_method\u001b[0;34m(self, other, op)\u001b[0m\n\u001b[1;32m   6240\u001b[0m rvalues \u001b[39m=\u001b[39m extract_array(other, extract_numpy\u001b[39m=\u001b[39m\u001b[39mTrue\u001b[39;00m, extract_range\u001b[39m=\u001b[39m\u001b[39mTrue\u001b[39;00m)\n\u001b[1;32m   6242\u001b[0m \u001b[39mwith\u001b[39;00m np\u001b[39m.\u001b[39merrstate(\u001b[39mall\u001b[39m\u001b[39m=\u001b[39m\u001b[39m\"\u001b[39m\u001b[39mignore\u001b[39m\u001b[39m\"\u001b[39m):\n\u001b[0;32m-> 6243\u001b[0m     res_values \u001b[39m=\u001b[39m ops\u001b[39m.\u001b[39;49mcomparison_op(lvalues, rvalues, op)\n\u001b[1;32m   6245\u001b[0m \u001b[39mreturn\u001b[39;00m \u001b[39mself\u001b[39m\u001b[39m.\u001b[39m_construct_result(res_values, name\u001b[39m=\u001b[39mres_name)\n",
      "File \u001b[0;32m/Library/Frameworks/Python.framework/Versions/3.11/lib/python3.11/site-packages/pandas/core/ops/array_ops.py:287\u001b[0m, in \u001b[0;36mcomparison_op\u001b[0;34m(left, right, op)\u001b[0m\n\u001b[1;32m    284\u001b[0m     \u001b[39mreturn\u001b[39;00m invalid_comparison(lvalues, rvalues, op)\n\u001b[1;32m    286\u001b[0m \u001b[39melif\u001b[39;00m is_object_dtype(lvalues\u001b[39m.\u001b[39mdtype) \u001b[39mor\u001b[39;00m \u001b[39misinstance\u001b[39m(rvalues, \u001b[39mstr\u001b[39m):\n\u001b[0;32m--> 287\u001b[0m     res_values \u001b[39m=\u001b[39m comp_method_OBJECT_ARRAY(op, lvalues, rvalues)\n\u001b[1;32m    289\u001b[0m \u001b[39melse\u001b[39;00m:\n\u001b[1;32m    290\u001b[0m     res_values \u001b[39m=\u001b[39m _na_arithmetic_op(lvalues, rvalues, op, is_cmp\u001b[39m=\u001b[39m\u001b[39mTrue\u001b[39;00m)\n",
      "File \u001b[0;32m/Library/Frameworks/Python.framework/Versions/3.11/lib/python3.11/site-packages/pandas/core/ops/array_ops.py:75\u001b[0m, in \u001b[0;36mcomp_method_OBJECT_ARRAY\u001b[0;34m(op, x, y)\u001b[0m\n\u001b[1;32m     73\u001b[0m     result \u001b[39m=\u001b[39m libops\u001b[39m.\u001b[39mvec_compare(x\u001b[39m.\u001b[39mravel(), y\u001b[39m.\u001b[39mravel(), op)\n\u001b[1;32m     74\u001b[0m \u001b[39melse\u001b[39;00m:\n\u001b[0;32m---> 75\u001b[0m     result \u001b[39m=\u001b[39m libops\u001b[39m.\u001b[39;49mscalar_compare(x\u001b[39m.\u001b[39;49mravel(), y, op)\n\u001b[1;32m     76\u001b[0m \u001b[39mreturn\u001b[39;00m result\u001b[39m.\u001b[39mreshape(x\u001b[39m.\u001b[39mshape)\n",
      "\u001b[0;31mKeyboardInterrupt\u001b[0m: "
     ]
    }
   ],
   "source": [
    "# Cleaning cikmUsers 2 location column\n",
    "def getCityCoordinates(s:str, long:bool, citiesDF:pd.DataFrame):\n",
    "    if type(s) != str:\n",
    "        return np.nan\n",
    "    \n",
    "    location = s.split(',')\n",
    "    city = location[0]\n",
    "    if len(location) == 1:\n",
    "        state = np.nan\n",
    "\n",
    "        cities = citiesDF.loc[citiesDF['city'] == city.strip()].sort_values(by='population', ascending=False)\n",
    "        if len(cities) == 0:\n",
    "            return np.nan\n",
    "        \n",
    "        cityObs = cities.iloc[0]\n",
    "        coordinates = [cityObs['lat'], cityObs['lng']]\n",
    "    else:\n",
    "        state = location[1]\n",
    "        cities = citiesDF.loc[(citiesDF['city'] == city.strip()) & (citiesDF['state_id'] == state.strip())]\n",
    "        if len(cities) == 0:\n",
    "            return np.nan\n",
    "\n",
    "        cityObs = cities.iloc[0]\n",
    "        coordinates = [cityObs['lat'], cityObs['lng']]\n",
    "\n",
    "    return coordinates[long]\n",
    "\n",
    "\n",
    "\n",
    "    \n",
    "# Getting long and lat for each observation\n",
    "citiesDF = pd.read_csv('../data/uscities.csv')\n",
    "\n",
    "cikmUsers2['latitude'] = cikmUsers2['location'].map(lambda x: getCityCoordinates(x, False, citiesDF))\n",
    "cikmUsers2['longitude'] = cikmUsers2['location'].map(lambda x: getCityCoordinates(x, True, citiesDF))\n",
    "\n",
    "# This cell takes like 7 min"
   ]
  },
  {
   "cell_type": "code",
   "execution_count": null,
   "metadata": {},
   "outputs": [
    {
     "data": {
      "text/html": [
       "<div>\n",
       "<style scoped>\n",
       "    .dataframe tbody tr th:only-of-type {\n",
       "        vertical-align: middle;\n",
       "    }\n",
       "\n",
       "    .dataframe tbody tr th {\n",
       "        vertical-align: top;\n",
       "    }\n",
       "\n",
       "    .dataframe thead th {\n",
       "        text-align: right;\n",
       "    }\n",
       "</style>\n",
       "<table border=\"1\" class=\"dataframe\">\n",
       "  <thead>\n",
       "    <tr style=\"text-align: right;\">\n",
       "      <th></th>\n",
       "      <th>user_id</th>\n",
       "      <th>latitude</th>\n",
       "      <th>longitude</th>\n",
       "    </tr>\n",
       "  </thead>\n",
       "  <tbody>\n",
       "    <tr>\n",
       "      <th>0</th>\n",
       "      <td>22077441</td>\n",
       "      <td>43.009815</td>\n",
       "      <td>-83.710408</td>\n",
       "    </tr>\n",
       "    <tr>\n",
       "      <th>1</th>\n",
       "      <td>17145858</td>\n",
       "      <td>38.856217</td>\n",
       "      <td>-90.056057</td>\n",
       "    </tr>\n",
       "    <tr>\n",
       "      <th>2</th>\n",
       "      <td>33931268</td>\n",
       "      <td>42.52548</td>\n",
       "      <td>-73.770351</td>\n",
       "    </tr>\n",
       "    <tr>\n",
       "      <th>3</th>\n",
       "      <td>19521541</td>\n",
       "      <td>40.735051</td>\n",
       "      <td>-74.228224</td>\n",
       "    </tr>\n",
       "    <tr>\n",
       "      <th>4</th>\n",
       "      <td>26976263</td>\n",
       "      <td>34.096153</td>\n",
       "      <td>-118.368732</td>\n",
       "    </tr>\n",
       "    <tr>\n",
       "      <th>...</th>\n",
       "      <td>...</td>\n",
       "      <td>...</td>\n",
       "      <td>...</td>\n",
       "    </tr>\n",
       "    <tr>\n",
       "      <th>102435</th>\n",
       "      <td>47185836</td>\n",
       "      <td>41.8375</td>\n",
       "      <td>-87.6866</td>\n",
       "    </tr>\n",
       "    <tr>\n",
       "      <th>102436</th>\n",
       "      <td>9437102</td>\n",
       "      <td>35.8324</td>\n",
       "      <td>-78.6429</td>\n",
       "    </tr>\n",
       "    <tr>\n",
       "      <th>102437</th>\n",
       "      <td>18000542</td>\n",
       "      <td>32.7935</td>\n",
       "      <td>-96.7667</td>\n",
       "    </tr>\n",
       "    <tr>\n",
       "      <th>102438</th>\n",
       "      <td>55574468</td>\n",
       "      <td>30.4413</td>\n",
       "      <td>-87.1911</td>\n",
       "    </tr>\n",
       "    <tr>\n",
       "      <th>102439</th>\n",
       "      <td>70604115</td>\n",
       "      <td>46.4161</td>\n",
       "      <td>-117.0505</td>\n",
       "    </tr>\n",
       "  </tbody>\n",
       "</table>\n",
       "<p>102440 rows × 3 columns</p>\n",
       "</div>"
      ],
      "text/plain": [
       "         user_id    latitude    longitude\n",
       "0       22077441   43.009815   -83.710408\n",
       "1       17145858   38.856217   -90.056057\n",
       "2       33931268    42.52548   -73.770351\n",
       "3       19521541   40.735051   -74.228224\n",
       "4       26976263   34.096153  -118.368732\n",
       "...          ...         ...          ...\n",
       "102435  47185836     41.8375     -87.6866\n",
       "102436   9437102     35.8324     -78.6429\n",
       "102437  18000542     32.7935     -96.7667\n",
       "102438  55574468     30.4413     -87.1911\n",
       "102439  70604115     46.4161    -117.0505\n",
       "\n",
       "[102440 rows x 3 columns]"
      ]
     },
     "execution_count": 127,
     "metadata": {},
     "output_type": "execute_result"
    }
   ],
   "source": [
    "# Drop non-needed columns\n",
    "cikmUsers2 = cikmUsers2.drop(['location'], axis=1)\n",
    "\n",
    "# Drop NAs in both \n",
    "cikmUsers1 = cikmUsers1.dropna()\n",
    "cikmUsers2 = cikmUsers2.dropna()\n",
    "\n",
    "# Concatenate into one big user dataset\n",
    "cikmUsersDF = pd.concat([cikmUsers1, cikmUsers2],axis=0).reset_index(drop=True)\n",
    "cikmUsersDF"
   ]
  },
  {
   "attachments": {},
   "cell_type": "markdown",
   "metadata": {},
   "source": [
    "## Joining Tweets Datasets"
   ]
  },
  {
   "cell_type": "code",
   "execution_count": null,
   "metadata": {},
   "outputs": [
    {
     "name": "stderr",
     "output_type": "stream",
     "text": [
      "/var/folders/sj/h8ss6gyd3v3ch7qgcmgk8sjm0000gn/T/ipykernel_71054/3819016077.py:3: DtypeWarning: Columns (0,1) have mixed types. Specify dtype option on import or set low_memory=False.\n",
      "  cikmTweets2 = pd.read_csv('../data/training_set_tweets.txt', sep='\\t', on_bad_lines='skip', names=['user_id', 'tweet_id', 'tweet', 'date'])\n"
     ]
    }
   ],
   "source": [
    "# Importing datasets\n",
    "cikmTweets1 = pd.read_csv('../data/test_set_tweets.txt', sep='\\t', on_bad_lines='skip', names=['user_id', 'tweet_id', 'tweet', 'date'])\n",
    "cikmTweets2 = pd.read_csv('../data/training_set_tweets.txt', sep='\\t', on_bad_lines='skip', names=['user_id', 'tweet_id', 'tweet', 'date'])\n",
    "\n",
    "# Dropping rows with NA values\n",
    "cikmTweets1 = cikmTweets1.dropna()\n",
    "cikmTweets2 = cikmTweets2.dropna()"
   ]
  },
  {
   "cell_type": "code",
   "execution_count": null,
   "metadata": {},
   "outputs": [
    {
     "name": "stdout",
     "output_type": "stream",
     "text": [
      "Removing columns...\n",
      "Formatting dates...\n",
      "Normalizing dates...\n"
     ]
    }
   ],
   "source": [
    "# Removing columns we don't need\n",
    "print(\"Removing columns...\")\n",
    "cikmTweets1 = cikmTweets1[['date','tweet', 'user_id']]\n",
    "cikmTweets2 = cikmTweets2[['date','tweet', 'user_id']]\n",
    "\n",
    "# Formatting the columns into the same dtypes\n",
    "print(\"Formatting dates...\")\n",
    "cikmTweets1['date'] = pd.to_datetime(cikmTweets1['date'],errors='coerce',format='%Y-%m-%d %H:%M:%S')\n",
    "cikmTweets2['date'] = pd.to_datetime(cikmTweets2['date'],errors='coerce',format='%Y-%m-%d %H:%M:%S')\n",
    "\n",
    "# Normalizing dates to same timezone\n",
    "print(\"Normalizing dates...\")\n",
    "cikmTweets1['date'] = cikmTweets1['date'].dt.tz_localize(None)\n",
    "cikmTweets2['date'] = cikmTweets2['date'].dt.tz_localize(None)\n",
    "\n",
    "# This cell takes around 1-2 minutes and throws and exception"
   ]
  },
  {
   "cell_type": "code",
   "execution_count": null,
   "metadata": {},
   "outputs": [],
   "source": [
    "# Concatenating all of the dataframes into one\n",
    "tweetsDF = pd.concat([cikmTweets1, cikmTweets2])\n",
    "\n",
    "# Sorting by date\n",
    "tweetsDF = tweetsDF.sort_values(by='date')\n",
    "\n",
    "# Dropping NA values again (because some dates get coerced to NAs)\n",
    "tweetsDF = tweetsDF.dropna()"
   ]
  },
  {
   "cell_type": "code",
   "execution_count": null,
   "metadata": {},
   "outputs": [
    {
     "data": {
      "text/plain": [
       "8755004"
      ]
     },
     "execution_count": 153,
     "metadata": {},
     "output_type": "execute_result"
    }
   ],
   "source": [
    "len(tweetsDF)"
   ]
  },
  {
   "attachments": {},
   "cell_type": "markdown",
   "metadata": {},
   "source": [
    "## Joining users and tweets"
   ]
  },
  {
   "cell_type": "code",
   "execution_count": null,
   "metadata": {},
   "outputs": [
    {
     "data": {
      "text/plain": [
       "8681441"
      ]
     },
     "execution_count": 191,
     "metadata": {},
     "output_type": "execute_result"
    }
   ],
   "source": [
    "# Making sure formatting is correct\n",
    "cikmUsersDF = cikmUsersDF.apply(lambda x: pd.to_numeric(x, errors='coerce'), axis=1)\n",
    "cikmUsersDF = cikmUsersDF.dropna()\n",
    "tweetsDF['user_id'] = pd.to_numeric(tweetsDF['user_id'], errors='coerce')\n",
    "\n",
    "# Doing an inner join on the tweets\n",
    "completeTweetsDF = pd.merge(tweetsDF, cikmUsersDF, on='user_id')\n",
    "\n",
    "# Number of tweets\n",
    "len(completeTweetsDF)"
   ]
  },
  {
   "attachments": {},
   "cell_type": "markdown",
   "metadata": {},
   "source": [
    "## Date Range"
   ]
  },
  {
   "cell_type": "code",
   "execution_count": null,
   "metadata": {},
   "outputs": [
    {
     "data": {
      "text/plain": [
       "<function matplotlib.pyplot.show(close=None, block=None)>"
      ]
     },
     "execution_count": 193,
     "metadata": {},
     "output_type": "execute_result"
    },
    {
     "data": {
      "image/png": "[encoded data removed]",
      "text/plain": [
       "<Figure size 640x480 with 1 Axes>"
      ]
     },
     "metadata": {},
     "output_type": "display_data"
    }
   ],
   "source": [
    "plt.hist(completeTweetsDF.date)\n",
    "plt.xlim(pd.Timestamp('2009-01-01'), pd.Timestamp('2010-07-31'))\n",
    "plt.xticks(rotation=45)\n",
    "plt.show"
   ]
  },
  {
   "attachments": {},
   "cell_type": "markdown",
   "metadata": {},
   "source": [
    "## Cleaning Tweets"
   ]
  },
  {
   "cell_type": "code",
   "execution_count": null,
   "metadata": {},
   "outputs": [],
   "source": [
    "# Getting a sample of 20 tweets from the dataset\n",
    "sample = completeTweetsDF.tweet.sample(n=20)"
   ]
  },
  {
   "cell_type": "code",
   "execution_count": null,
   "metadata": {},
   "outputs": [
    {
     "data": {
      "text/plain": [
       "4960499    @Nupur1121 where did u move? Congrats on new job!\n",
       "5430184    OOAK, Lavender & Purple Necklace, great gift i...\n",
       "8381327    He's in it to win it #srsbns http://tweetphoto...\n",
       "7227094    RSVP HERE --> (http://caltweet.com/4cr ) - Sin...\n",
       "962526     RT @KinoSharp: @DJTECNEEK Happy bday my nigg &...\n",
       "94002      @karltoss bueeeeeno despues de 1hr ya hasta ta...\n",
       "7171689    RT @PrettyBrwn_n: #letsbehonest NY is the best...\n",
       "6379497    Sitting in doctor's office and my 5 year old p...\n",
       "5714715    I felt it was mii duty to boost her head even ...\n",
       "1941119                        @souljaboytellem 469 261 5147\n",
       "4647675    Photo: thongxxxy: Wow http://tumblr.com/xjn3sezi5\n",
       "3324963        @Devon_Dazzle ditto. XOXO Gossip Girl xCHRISx\n",
       "8661001      @JaeBarzthevamp yu been givin it away huh.. Smh\n",
       "4043928    Feel the burn! Kristina-With-A-K has calorie-c...\n",
       "4556483    I just unlocked the \"Crunked\" badge on @foursq...\n",
       "4259020    RT @DetroitRedWings the first 5 out of state t...\n",
       "943980     RT @jonesette: Live with no excuses and love w...\n",
       "8615436    If you did it in public I would of had more jo...\n",
       "6953714                          KEEP THE CAMERAS ROLLIN!!!!\n",
       "2221742                                Blackberry or iPhone?\n",
       "Name: tweet, dtype: object"
      ]
     },
     "execution_count": 195,
     "metadata": {},
     "output_type": "execute_result"
    }
   ],
   "source": [
    "sample"
   ]
  },
  {
   "cell_type": "code",
   "execution_count": null,
   "metadata": {},
   "outputs": [],
   "source": [
    "# Function to clean tweets\n",
    "def tweetCleaner(row):\n",
    "    tweet = row['tweet']\n",
    "\n",
    "    # Removing mentions\n",
    "    tweet = re.sub(\n",
    "        '(\\A|\\s)@(\\w+)',\n",
    "        '',\n",
    "        tweet\n",
    "    )\n",
    "\n",
    "    # Removing links\n",
    "    tweet = re.sub(\n",
    "        'https?://(?:[-\\w.]|(?:%[\\da-fA-F]{2}))+\\S*|(?:https?://)?(?:www\\.)?\\w+\\.\\w{2,}(?:\\.\\w{2,})?',\n",
    "        '',\n",
    "        tweet\n",
    "    )\n",
    "    \n",
    "    # Eliminate whitespace at the ends \n",
    "    tweet = tweet.strip()\n",
    "\n",
    "    # Converting all words to lowercase\n",
    "    tweet = tweet.lower()\n",
    "\n",
    "    # Extracting and removing hashtags\n",
    "    hashtags = ','.join(re.findall('[\\s\\W]#(\\w+)', tweet))\n",
    "    tweet = re.sub(\n",
    "        '[\\s\\W]#(\\w+)',\n",
    "        '',\n",
    "        tweet\n",
    "    )\n",
    "\n",
    "    # Removing special characters\n",
    "    tweet = re.sub(\n",
    "        '[^a-zA-Z ]',\n",
    "        '',\n",
    "        tweet\n",
    "    )\n",
    "\n",
    "    return pd.Series([tweet, hashtags, row['tweet']])\n",
    "\n"
   ]
  },
  {
   "cell_type": "code",
   "execution_count": null,
   "metadata": {},
   "outputs": [],
   "source": [
    "completeTweetsDF[['tweet', 'hashtags', 'original_tweet']] = completeTweetsDF.apply(tweetCleaner, axis=1)\n",
    "# Takes about 12 min"
   ]
  },
  {
   "cell_type": "code",
   "execution_count": null,
   "metadata": {},
   "outputs": [
    {
     "data": {
      "text/html": [
       "<div>\n",
       "<style scoped>\n",
       "    .dataframe tbody tr th:only-of-type {\n",
       "        vertical-align: middle;\n",
       "    }\n",
       "\n",
       "    .dataframe tbody tr th {\n",
       "        vertical-align: top;\n",
       "    }\n",
       "\n",
       "    .dataframe thead th {\n",
       "        text-align: right;\n",
       "    }\n",
       "</style>\n",
       "<table border=\"1\" class=\"dataframe\">\n",
       "  <thead>\n",
       "    <tr style=\"text-align: right;\">\n",
       "      <th></th>\n",
       "      <th>date</th>\n",
       "      <th>tweet</th>\n",
       "      <th>user_id</th>\n",
       "      <th>latitude</th>\n",
       "      <th>longitude</th>\n",
       "      <th>hashtags</th>\n",
       "      <th>original_tweet</th>\n",
       "    </tr>\n",
       "  </thead>\n",
       "  <tbody>\n",
       "    <tr>\n",
       "      <th>0</th>\n",
       "      <td>2006-09-10 11:07:07</td>\n",
       "      <td>trying to figure out what this thing is</td>\n",
       "      <td>5622.0</td>\n",
       "      <td>39.14130</td>\n",
       "      <td>-84.5060</td>\n",
       "      <td></td>\n",
       "      <td>trying to figure out what this thing is.</td>\n",
       "    </tr>\n",
       "    <tr>\n",
       "      <th>1</th>\n",
       "      <td>2007-03-17 09:59:46</td>\n",
       "      <td>killing my land line</td>\n",
       "      <td>5622.0</td>\n",
       "      <td>39.14130</td>\n",
       "      <td>-84.5060</td>\n",
       "      <td></td>\n",
       "      <td>killing my land line.</td>\n",
       "    </tr>\n",
       "    <tr>\n",
       "      <th>2</th>\n",
       "      <td>2007-03-18 11:48:24</td>\n",
       "      <td>my expense report</td>\n",
       "      <td>5622.0</td>\n",
       "      <td>39.14130</td>\n",
       "      <td>-84.5060</td>\n",
       "      <td></td>\n",
       "      <td>my expense report</td>\n",
       "    </tr>\n",
       "    <tr>\n",
       "      <th>3</th>\n",
       "      <td>2007-03-21 12:20:05</td>\n",
       "      <td>putting down the llama book</td>\n",
       "      <td>5622.0</td>\n",
       "      <td>39.14130</td>\n",
       "      <td>-84.5060</td>\n",
       "      <td></td>\n",
       "      <td>putting down the llama book.</td>\n",
       "    </tr>\n",
       "    <tr>\n",
       "      <th>4</th>\n",
       "      <td>2007-03-23 14:27:29</td>\n",
       "      <td>delegating</td>\n",
       "      <td>5622.0</td>\n",
       "      <td>39.14130</td>\n",
       "      <td>-84.5060</td>\n",
       "      <td></td>\n",
       "      <td>delegating</td>\n",
       "    </tr>\n",
       "    <tr>\n",
       "      <th>...</th>\n",
       "      <td>...</td>\n",
       "      <td>...</td>\n",
       "      <td>...</td>\n",
       "      <td>...</td>\n",
       "      <td>...</td>\n",
       "      <td>...</td>\n",
       "      <td>...</td>\n",
       "    </tr>\n",
       "    <tr>\n",
       "      <th>8681436</th>\n",
       "      <td>2010-03-16 20:04:36</td>\n",
       "      <td>wassup</td>\n",
       "      <td>58669408.0</td>\n",
       "      <td>43.02179</td>\n",
       "      <td>-83.6757</td>\n",
       "      <td></td>\n",
       "      <td>@Courtneyr35 wassup</td>\n",
       "    </tr>\n",
       "    <tr>\n",
       "      <th>8681437</th>\n",
       "      <td>2010-03-16 20:06:23</td>\n",
       "      <td>so tired</td>\n",
       "      <td>58669408.0</td>\n",
       "      <td>43.02179</td>\n",
       "      <td>-83.6757</td>\n",
       "      <td></td>\n",
       "      <td>So tired!</td>\n",
       "    </tr>\n",
       "    <tr>\n",
       "      <th>8681438</th>\n",
       "      <td>2010-03-16 20:08:32</td>\n",
       "      <td>no im not</td>\n",
       "      <td>58669408.0</td>\n",
       "      <td>43.02179</td>\n",
       "      <td>-83.6757</td>\n",
       "      <td></td>\n",
       "      <td>@Miyoko92 no I'm not!</td>\n",
       "    </tr>\n",
       "    <tr>\n",
       "      <th>8681439</th>\n",
       "      <td>2010-03-16 20:08:55</td>\n",
       "      <td>wat you up</td>\n",
       "      <td>58669408.0</td>\n",
       "      <td>43.02179</td>\n",
       "      <td>-83.6757</td>\n",
       "      <td></td>\n",
       "      <td>@Courtneyr35 wat you up 2?</td>\n",
       "    </tr>\n",
       "    <tr>\n",
       "      <th>8681440</th>\n",
       "      <td>2010-03-16 21:13:59</td>\n",
       "      <td>shootin pool wit my roommates</td>\n",
       "      <td>58669408.0</td>\n",
       "      <td>43.02179</td>\n",
       "      <td>-83.6757</td>\n",
       "      <td></td>\n",
       "      <td>@Courtneyr35 shootin pool wit my roommates</td>\n",
       "    </tr>\n",
       "  </tbody>\n",
       "</table>\n",
       "<p>8681441 rows × 7 columns</p>\n",
       "</div>"
      ],
      "text/plain": [
       "                       date                                    tweet  \\\n",
       "0       2006-09-10 11:07:07  trying to figure out what this thing is   \n",
       "1       2007-03-17 09:59:46                     killing my land line   \n",
       "2       2007-03-18 11:48:24                        my expense report   \n",
       "3       2007-03-21 12:20:05              putting down the llama book   \n",
       "4       2007-03-23 14:27:29                               delegating   \n",
       "...                     ...                                      ...   \n",
       "8681436 2010-03-16 20:04:36                                   wassup   \n",
       "8681437 2010-03-16 20:06:23                                 so tired   \n",
       "8681438 2010-03-16 20:08:32                                no im not   \n",
       "8681439 2010-03-16 20:08:55                              wat you up    \n",
       "8681440 2010-03-16 21:13:59            shootin pool wit my roommates   \n",
       "\n",
       "            user_id  latitude  longitude hashtags  \\\n",
       "0            5622.0  39.14130   -84.5060            \n",
       "1            5622.0  39.14130   -84.5060            \n",
       "2            5622.0  39.14130   -84.5060            \n",
       "3            5622.0  39.14130   -84.5060            \n",
       "4            5622.0  39.14130   -84.5060            \n",
       "...             ...       ...        ...      ...   \n",
       "8681436  58669408.0  43.02179   -83.6757            \n",
       "8681437  58669408.0  43.02179   -83.6757            \n",
       "8681438  58669408.0  43.02179   -83.6757            \n",
       "8681439  58669408.0  43.02179   -83.6757            \n",
       "8681440  58669408.0  43.02179   -83.6757            \n",
       "\n",
       "                                     original_tweet  \n",
       "0          trying to figure out what this thing is.  \n",
       "1                             killing my land line.  \n",
       "2                                 my expense report  \n",
       "3                      putting down the llama book.  \n",
       "4                                        delegating  \n",
       "...                                             ...  \n",
       "8681436                         @Courtneyr35 wassup  \n",
       "8681437                                   So tired!  \n",
       "8681438                       @Miyoko92 no I'm not!  \n",
       "8681439                  @Courtneyr35 wat you up 2?  \n",
       "8681440  @Courtneyr35 shootin pool wit my roommates  \n",
       "\n",
       "[8681441 rows x 7 columns]"
      ]
     },
     "execution_count": 291,
     "metadata": {},
     "output_type": "execute_result"
    }
   ],
   "source": [
    "completeTweetsDF"
   ]
  },
  {
   "cell_type": "code",
   "execution_count": null,
   "metadata": {},
   "outputs": [],
   "source": [
    "completeTweetsDF.to_csv('../data/finalDF.csv')"
   ]
  }
 ],
 "metadata": {
  "kernelspec": {
   "display_name": "Python 3",
   "language": "python",
   "name": "python3"
  },
  "language_info": {
   "codemirror_mode": {
    "name": "ipython",
    "version": 3
   },
   "file_extension": ".py",
   "mimetype": "text/x-python",
   "name": "python",
   "nbconvert_exporter": "python",
   "pygments_lexer": "ipython3",
   "version": "3.11.2"
  },
  "orig_nbformat": 4
 },
 "nbformat": 4,
 "nbformat_minor": 2
}
